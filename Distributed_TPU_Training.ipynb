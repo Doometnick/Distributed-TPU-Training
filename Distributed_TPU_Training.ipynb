{
  "nbformat": 4,
  "nbformat_minor": 0,
  "metadata": {
    "colab": {
      "name": "Distributed_TPU_Training.ipynb",
      "provenance": [],
      "collapsed_sections": [],
      "toc_visible": true,
      "include_colab_link": true
    },
    "kernelspec": {
      "name": "python3",
      "display_name": "Python 3"
    },
    "accelerator": "TPU"
  },
  "cells": [
    {
      "cell_type": "markdown",
      "metadata": {
        "id": "view-in-github",
        "colab_type": "text"
      },
      "source": [
        "<a href=\"https://colab.research.google.com/github/Doometnick/Distributed-TPU-Training/blob/master/Distributed_TPU_Training.ipynb\" target=\"_parent\"><img src=\"https://colab.research.google.com/assets/colab-badge.svg\" alt=\"Open In Colab\"/></a>"
      ]
    },
    {
      "cell_type": "markdown",
      "metadata": {
        "id": "HDjk5P3ZuF9Y",
        "colab_type": "text"
      },
      "source": [
        "#Ready for some speed?\n",
        "\n",
        "Google Colab offers options to use GPUs and TPUs as hardware accelerators. While this can already significantly increase the training speed, distributing trainig over a pool of these accelerators, we can increase the speed even further.\n",
        "\n",
        "\n",
        "\n",
        "--> To enable TPUs, go to **'Runtime' > 'Change runtime type'** on the top left, and enable **TPU** as hardware accelerator."
      ]
    },
    {
      "cell_type": "code",
      "metadata": {
        "id": "XebavA1nggOA",
        "colab_type": "code",
        "colab": {
          "base_uri": "https://localhost:8080/",
          "height": 52
        },
        "outputId": "6abb173f-1c09-4b5d-f409-44b4a9d8e597"
      },
      "source": [
        "try:\n",
        "  # %tensorflow_version only exists in Colab.\n",
        "  %tensorflow_version 2.x\n",
        "except Exception:\n",
        "  pass\n",
        "import tensorflow as tf\n",
        "print(f\"Tensorflow version: {tf.__version__}\")"
      ],
      "execution_count": 1,
      "outputs": [
        {
          "output_type": "stream",
          "text": [
            "TensorFlow 2.x selected.\n",
            "Tensorflow version: 2.0.0\n"
          ],
          "name": "stdout"
        }
      ]
    },
    {
      "cell_type": "code",
      "metadata": {
        "id": "GrQ_PfmfwfQE",
        "colab_type": "code",
        "colab": {}
      },
      "source": [
        "import numpy as np\n",
        "import functools\n",
        "import os\n",
        "import matplotlib.pyplot as plt"
      ],
      "execution_count": 0,
      "outputs": []
    },
    {
      "cell_type": "markdown",
      "metadata": {
        "id": "HKK2P_qQw6bM",
        "colab_type": "text"
      },
      "source": [
        "###Data\n",
        "We will use the mnist data set to demonstrate distributed training."
      ]
    },
    {
      "cell_type": "code",
      "metadata": {
        "id": "iE8tFWXvxA2b",
        "colab_type": "code",
        "outputId": "9b2dd912-3c87-4869-98f5-8333943acffb",
        "colab": {
          "base_uri": "https://localhost:8080/",
          "height": 35
        }
      },
      "source": [
        "(x_train, y_train), (x_test, y_test) = tf.keras.datasets.mnist.load_data()\n",
        "\n",
        "# Scale to [0,1]\n",
        "x_train = x_train / 255.0\n",
        "x_test = x_test / 255.0\n",
        "\n",
        "# Add dimension so we have a shape of (28, 28, 1) for every picture.\n",
        "x_train = np.expand_dims(x_train, -1)\n",
        "x_test = np.expand_dims(x_test, -1)\n",
        "\n",
        "print(f\"x_train shape: {x_train.shape}\")\n",
        "\n",
        "# Convert to float32 is necessary for the model.fit() below.\n",
        "x_train = x_train.astype(np.float32)\n",
        "y_train = y_train.astype(np.float32)\n",
        "x_test = x_test.astype(np.float32)\n",
        "y_test = y_test.astype(np.float32)"
      ],
      "execution_count": 3,
      "outputs": [
        {
          "output_type": "stream",
          "text": [
            "x_train shape: (60000, 28, 28, 1)\n"
          ],
          "name": "stdout"
        }
      ]
    },
    {
      "cell_type": "markdown",
      "metadata": {
        "id": "M3nROx-bxdiw",
        "colab_type": "text"
      },
      "source": [
        "### Model"
      ]
    },
    {
      "cell_type": "code",
      "metadata": {
        "id": "bVzkWj8HxeiK",
        "colab_type": "code",
        "colab": {}
      },
      "source": [
        "def build_model():\n",
        "\n",
        "    n_filters = 64\n",
        "    wdecay = 0.001\n",
        "\n",
        "    # We use functools to create partial functions so the \n",
        "    # model definition below becomes more readable.\n",
        "    Activation = functools.partial(tf.keras.layers.Activation, activation=\"relu\")\n",
        "    Conv2D = functools.partial(tf.keras.layers.Conv2D, \n",
        "                               activation=None, \n",
        "                               padding=\"same\", \n",
        "                               kernel_regularizer=tf.keras.regularizers.l2(wdecay))\n",
        "    MaxPool = functools.partial(tf.keras.layers.MaxPool2D, pool_size=(2,2))\n",
        "    Flatten = tf.keras.layers.Flatten\n",
        "    Dense = tf.keras.layers.Dense\n",
        "    BatchNormalization = tf.keras.layers.BatchNormalization\n",
        "    Dropout = tf.keras.layers.Dropout\n",
        "\n",
        "    model = tf.keras.Sequential([\n",
        "        \n",
        "        # Use three subsequent Conv2D layers without pooling in between\n",
        "        # to have a more discriminative decision function \n",
        "        # (https://arxiv.org/abs/1409.1556).\n",
        "        Conv2D(filters=n_filters*1, kernel_size=(3,3), strides=(1,1), input_shape=x_train.shape[1:]),\n",
        "        BatchNormalization(),\n",
        "        Activation(),\n",
        "        Conv2D(filters=n_filters*1, kernel_size=(3,3), strides=(1,1)),\n",
        "        BatchNormalization(),\n",
        "        Activation(),\n",
        "        Conv2D(filters=n_filters*1, kernel_size=(3,3), strides=(1,1)),\n",
        "        BatchNormalization(),\n",
        "        Activation(),\n",
        "        MaxPool(),\n",
        "        \n",
        "\n",
        "        Conv2D(filters=n_filters*2, kernel_size=(3,3), strides=(1,1)),\n",
        "        BatchNormalization(),\n",
        "        Activation(),\n",
        "        Conv2D(filters=n_filters*2, kernel_size=(3,3), strides=(1,1)),\n",
        "        BatchNormalization(),\n",
        "        Activation(),\n",
        "        Conv2D(filters=n_filters*2, kernel_size=(3,3), strides=(1,1)),\n",
        "        BatchNormalization(),\n",
        "        Activation(),\n",
        "        MaxPool(),\n",
        "\n",
        "        Flatten(),\n",
        "\n",
        "        Dense(64, activation=None, kernel_regularizer=tf.keras.regularizers.l2(wdecay)),\n",
        "        Dropout(0.5),\n",
        "        BatchNormalization(),\n",
        "        Activation(),\n",
        "\n",
        "        Dense(10, activation=\"softmax\")\n",
        "    ])\n",
        "\n",
        "    return model"
      ],
      "execution_count": 0,
      "outputs": []
    },
    {
      "cell_type": "code",
      "metadata": {
        "id": "wrYgKHBEBhFy",
        "colab_type": "code",
        "colab": {}
      },
      "source": [
        "def create_model():\n",
        "    model = tf.keras.models.Sequential()\n",
        "    model.add(tf.keras.layers.BatchNormalization(input_shape=x_train.shape[1:]))\n",
        "    model.add(tf.keras.layers.Conv2D(64, (5, 5), padding='same', activation='elu'))\n",
        "    model.add(tf.keras.layers.MaxPooling2D(pool_size=(2, 2), strides=(2,2)))\n",
        "    model.add(tf.keras.layers.Dropout(0.25))\n",
        "\n",
        "    model.add(tf.keras.layers.BatchNormalization(input_shape=x_train.shape[1:]))\n",
        "    model.add(tf.keras.layers.Conv2D(128, (5, 5), padding='same', activation='elu'))\n",
        "    model.add(tf.keras.layers.MaxPooling2D(pool_size=(2, 2)))\n",
        "    model.add(tf.keras.layers.Dropout(0.25))\n",
        "\n",
        "    model.add(tf.keras.layers.BatchNormalization(input_shape=x_train.shape[1:]))\n",
        "    model.add(tf.keras.layers.Conv2D(256, (5, 5), padding='same', activation='elu'))\n",
        "    model.add(tf.keras.layers.MaxPooling2D(pool_size=(2, 2), strides=(2,2)))\n",
        "    model.add(tf.keras.layers.Dropout(0.25))\n",
        "\n",
        "    model.add(tf.keras.layers.Flatten())\n",
        "    model.add(tf.keras.layers.Dense(256))\n",
        "    model.add(tf.keras.layers.Activation('elu'))\n",
        "    model.add(tf.keras.layers.Dropout(0.5))\n",
        "    model.add(tf.keras.layers.Dense(10))\n",
        "    model.add(tf.keras.layers.Activation('softmax'))\n",
        "    return model"
      ],
      "execution_count": 0,
      "outputs": []
    },
    {
      "cell_type": "markdown",
      "metadata": {
        "id": "l0mRsR37LKyb",
        "colab_type": "text"
      },
      "source": [
        "Here we define the distribution strategy."
      ]
    },
    {
      "cell_type": "code",
      "metadata": {
        "id": "DG_Wo3YlyGtw",
        "colab_type": "code",
        "outputId": "d7ee2009-6bef-4c1b-fb33-784131864c87",
        "colab": {
          "base_uri": "https://localhost:8080/",
          "height": 731
        }
      },
      "source": [
        "# Cluster resolver for tf 2.0, see\n",
        "# https://www.tensorflow.org/guide/distributed_training#tpustrategy\n",
        "cluster_resolver = tf.distribute.cluster_resolver.TPUClusterResolver()\n",
        "tf.config.experimental_connect_to_cluster(cluster_resolver)\n",
        "tf.tpu.experimental.initialize_tpu_system(cluster_resolver)\n",
        "tpu_strategy = tf.distribute.experimental.TPUStrategy(cluster_resolver)\n",
        "\n",
        "with tpu_strategy.scope():\n",
        "  model = create_model()\n",
        "  model.compile(\n",
        "      optimizer=tf.keras.optimizers.Adam(learning_rate=1e-3),\n",
        "      loss='sparse_categorical_crossentropy',\n",
        "      metrics=['accuracy', 'sparse_categorical_accuracy'])"
      ],
      "execution_count": 6,
      "outputs": [
        {
          "output_type": "stream",
          "text": [
            "INFO:tensorflow:Initializing the TPU system: 10.106.219.210:8470\n"
          ],
          "name": "stdout"
        },
        {
          "output_type": "stream",
          "text": [
            "INFO:tensorflow:Initializing the TPU system: 10.106.219.210:8470\n"
          ],
          "name": "stderr"
        },
        {
          "output_type": "stream",
          "text": [
            "INFO:tensorflow:Clearing out eager caches\n"
          ],
          "name": "stdout"
        },
        {
          "output_type": "stream",
          "text": [
            "INFO:tensorflow:Clearing out eager caches\n"
          ],
          "name": "stderr"
        },
        {
          "output_type": "stream",
          "text": [
            "INFO:tensorflow:Finished initializing TPU system.\n"
          ],
          "name": "stdout"
        },
        {
          "output_type": "stream",
          "text": [
            "INFO:tensorflow:Finished initializing TPU system.\n"
          ],
          "name": "stderr"
        },
        {
          "output_type": "stream",
          "text": [
            "INFO:tensorflow:Found TPU system:\n"
          ],
          "name": "stdout"
        },
        {
          "output_type": "stream",
          "text": [
            "INFO:tensorflow:Found TPU system:\n"
          ],
          "name": "stderr"
        },
        {
          "output_type": "stream",
          "text": [
            "INFO:tensorflow:*** Num TPU Cores: 8\n"
          ],
          "name": "stdout"
        },
        {
          "output_type": "stream",
          "text": [
            "INFO:tensorflow:*** Num TPU Cores: 8\n"
          ],
          "name": "stderr"
        },
        {
          "output_type": "stream",
          "text": [
            "INFO:tensorflow:*** Num TPU Workers: 1\n"
          ],
          "name": "stdout"
        },
        {
          "output_type": "stream",
          "text": [
            "INFO:tensorflow:*** Num TPU Workers: 1\n"
          ],
          "name": "stderr"
        },
        {
          "output_type": "stream",
          "text": [
            "INFO:tensorflow:*** Num TPU Cores Per Worker: 8\n"
          ],
          "name": "stdout"
        },
        {
          "output_type": "stream",
          "text": [
            "INFO:tensorflow:*** Num TPU Cores Per Worker: 8\n"
          ],
          "name": "stderr"
        },
        {
          "output_type": "stream",
          "text": [
            "INFO:tensorflow:*** Available Device: _DeviceAttributes(/job:localhost/replica:0/task:0/device:CPU:0, CPU, 0, 0)\n"
          ],
          "name": "stdout"
        },
        {
          "output_type": "stream",
          "text": [
            "INFO:tensorflow:*** Available Device: _DeviceAttributes(/job:localhost/replica:0/task:0/device:CPU:0, CPU, 0, 0)\n"
          ],
          "name": "stderr"
        },
        {
          "output_type": "stream",
          "text": [
            "INFO:tensorflow:*** Available Device: _DeviceAttributes(/job:localhost/replica:0/task:0/device:XLA_CPU:0, XLA_CPU, 0, 0)\n"
          ],
          "name": "stdout"
        },
        {
          "output_type": "stream",
          "text": [
            "INFO:tensorflow:*** Available Device: _DeviceAttributes(/job:localhost/replica:0/task:0/device:XLA_CPU:0, XLA_CPU, 0, 0)\n"
          ],
          "name": "stderr"
        },
        {
          "output_type": "stream",
          "text": [
            "INFO:tensorflow:*** Available Device: _DeviceAttributes(/job:worker/replica:0/task:0/device:CPU:0, CPU, 0, 0)\n"
          ],
          "name": "stdout"
        },
        {
          "output_type": "stream",
          "text": [
            "INFO:tensorflow:*** Available Device: _DeviceAttributes(/job:worker/replica:0/task:0/device:CPU:0, CPU, 0, 0)\n"
          ],
          "name": "stderr"
        },
        {
          "output_type": "stream",
          "text": [
            "INFO:tensorflow:*** Available Device: _DeviceAttributes(/job:worker/replica:0/task:0/device:TPU:0, TPU, 0, 0)\n"
          ],
          "name": "stdout"
        },
        {
          "output_type": "stream",
          "text": [
            "INFO:tensorflow:*** Available Device: _DeviceAttributes(/job:worker/replica:0/task:0/device:TPU:0, TPU, 0, 0)\n"
          ],
          "name": "stderr"
        },
        {
          "output_type": "stream",
          "text": [
            "INFO:tensorflow:*** Available Device: _DeviceAttributes(/job:worker/replica:0/task:0/device:TPU:1, TPU, 0, 0)\n"
          ],
          "name": "stdout"
        },
        {
          "output_type": "stream",
          "text": [
            "INFO:tensorflow:*** Available Device: _DeviceAttributes(/job:worker/replica:0/task:0/device:TPU:1, TPU, 0, 0)\n"
          ],
          "name": "stderr"
        },
        {
          "output_type": "stream",
          "text": [
            "INFO:tensorflow:*** Available Device: _DeviceAttributes(/job:worker/replica:0/task:0/device:TPU:2, TPU, 0, 0)\n"
          ],
          "name": "stdout"
        },
        {
          "output_type": "stream",
          "text": [
            "INFO:tensorflow:*** Available Device: _DeviceAttributes(/job:worker/replica:0/task:0/device:TPU:2, TPU, 0, 0)\n"
          ],
          "name": "stderr"
        },
        {
          "output_type": "stream",
          "text": [
            "INFO:tensorflow:*** Available Device: _DeviceAttributes(/job:worker/replica:0/task:0/device:TPU:3, TPU, 0, 0)\n"
          ],
          "name": "stdout"
        },
        {
          "output_type": "stream",
          "text": [
            "INFO:tensorflow:*** Available Device: _DeviceAttributes(/job:worker/replica:0/task:0/device:TPU:3, TPU, 0, 0)\n"
          ],
          "name": "stderr"
        },
        {
          "output_type": "stream",
          "text": [
            "INFO:tensorflow:*** Available Device: _DeviceAttributes(/job:worker/replica:0/task:0/device:TPU:4, TPU, 0, 0)\n"
          ],
          "name": "stdout"
        },
        {
          "output_type": "stream",
          "text": [
            "INFO:tensorflow:*** Available Device: _DeviceAttributes(/job:worker/replica:0/task:0/device:TPU:4, TPU, 0, 0)\n"
          ],
          "name": "stderr"
        },
        {
          "output_type": "stream",
          "text": [
            "INFO:tensorflow:*** Available Device: _DeviceAttributes(/job:worker/replica:0/task:0/device:TPU:5, TPU, 0, 0)\n"
          ],
          "name": "stdout"
        },
        {
          "output_type": "stream",
          "text": [
            "INFO:tensorflow:*** Available Device: _DeviceAttributes(/job:worker/replica:0/task:0/device:TPU:5, TPU, 0, 0)\n"
          ],
          "name": "stderr"
        },
        {
          "output_type": "stream",
          "text": [
            "INFO:tensorflow:*** Available Device: _DeviceAttributes(/job:worker/replica:0/task:0/device:TPU:6, TPU, 0, 0)\n"
          ],
          "name": "stdout"
        },
        {
          "output_type": "stream",
          "text": [
            "INFO:tensorflow:*** Available Device: _DeviceAttributes(/job:worker/replica:0/task:0/device:TPU:6, TPU, 0, 0)\n"
          ],
          "name": "stderr"
        },
        {
          "output_type": "stream",
          "text": [
            "INFO:tensorflow:*** Available Device: _DeviceAttributes(/job:worker/replica:0/task:0/device:TPU:7, TPU, 0, 0)\n"
          ],
          "name": "stdout"
        },
        {
          "output_type": "stream",
          "text": [
            "INFO:tensorflow:*** Available Device: _DeviceAttributes(/job:worker/replica:0/task:0/device:TPU:7, TPU, 0, 0)\n"
          ],
          "name": "stderr"
        },
        {
          "output_type": "stream",
          "text": [
            "INFO:tensorflow:*** Available Device: _DeviceAttributes(/job:worker/replica:0/task:0/device:TPU_SYSTEM:0, TPU_SYSTEM, 0, 0)\n"
          ],
          "name": "stdout"
        },
        {
          "output_type": "stream",
          "text": [
            "INFO:tensorflow:*** Available Device: _DeviceAttributes(/job:worker/replica:0/task:0/device:TPU_SYSTEM:0, TPU_SYSTEM, 0, 0)\n"
          ],
          "name": "stderr"
        },
        {
          "output_type": "stream",
          "text": [
            "INFO:tensorflow:*** Available Device: _DeviceAttributes(/job:worker/replica:0/task:0/device:XLA_CPU:0, XLA_CPU, 0, 0)\n"
          ],
          "name": "stdout"
        },
        {
          "output_type": "stream",
          "text": [
            "INFO:tensorflow:*** Available Device: _DeviceAttributes(/job:worker/replica:0/task:0/device:XLA_CPU:0, XLA_CPU, 0, 0)\n"
          ],
          "name": "stderr"
        }
      ]
    },
    {
      "cell_type": "markdown",
      "metadata": {
        "id": "Z1SVyuO7LSdV",
        "colab_type": "text"
      },
      "source": [
        "And then we train the model for 15 episodes. Note that the training speed per episode is very high."
      ]
    },
    {
      "cell_type": "code",
      "metadata": {
        "id": "ZGtTgO4_LFV4",
        "colab_type": "code",
        "outputId": "0a3e8b9e-0a8e-4e52-ccbe-97dc66041194",
        "colab": {
          "base_uri": "https://localhost:8080/",
          "height": 575
        }
      },
      "source": [
        "# How often do we validate, as this decreases the training speed on distributed TPUs.\n",
        "validation_frequency = 5\n",
        "\n",
        "history = model.fit(x_train, \n",
        "                    y_train,\n",
        "                    epochs=15,\n",
        "                    steps_per_epoch=100,\n",
        "                    validation_data=(x_test, y_test),\n",
        "                    validation_freq=validation_frequency)"
      ],
      "execution_count": 7,
      "outputs": [
        {
          "output_type": "stream",
          "text": [
            "Train on 100 steps, validate on 17 steps\n",
            "Epoch 1/15\n",
            "100/100 [==============================] - 12s 120ms/step - loss: 0.7702 - accuracy: 0.8264 - sparse_categorical_accuracy: 0.8264\n",
            "Epoch 2/15\n",
            "100/100 [==============================] - 2s 21ms/step - loss: 0.1276 - accuracy: 0.9621 - sparse_categorical_accuracy: 0.9621\n",
            "Epoch 3/15\n",
            "100/100 [==============================] - 2s 21ms/step - loss: 0.0874 - accuracy: 0.9736 - sparse_categorical_accuracy: 0.9736\n",
            "Epoch 4/15\n",
            "100/100 [==============================] - 2s 21ms/step - loss: 0.0692 - accuracy: 0.9800 - sparse_categorical_accuracy: 0.9800\n",
            "Epoch 5/15\n",
            "100/100 [==============================] - 6s 58ms/step - loss: 0.0555 - accuracy: 0.9834 - sparse_categorical_accuracy: 0.9834 - val_loss: 0.0446 - val_accuracy: 0.9859 - val_sparse_categorical_accuracy: 0.9859\n",
            "Epoch 6/15\n",
            "100/100 [==============================] - 2s 20ms/step - loss: 0.0471 - accuracy: 0.9859 - sparse_categorical_accuracy: 0.9859\n",
            "Epoch 7/15\n",
            "100/100 [==============================] - 2s 21ms/step - loss: 0.0406 - accuracy: 0.9877 - sparse_categorical_accuracy: 0.9877\n",
            "Epoch 8/15\n",
            "100/100 [==============================] - 2s 21ms/step - loss: 0.0377 - accuracy: 0.9889 - sparse_categorical_accuracy: 0.9889\n",
            "Epoch 9/15\n",
            "100/100 [==============================] - 2s 21ms/step - loss: 0.0346 - accuracy: 0.9893 - sparse_categorical_accuracy: 0.9893\n",
            "Epoch 10/15\n",
            "100/100 [==============================] - 3s 25ms/step - loss: 0.0299 - accuracy: 0.9904 - sparse_categorical_accuracy: 0.9904 - val_loss: 0.0276 - val_accuracy: 0.9918 - val_sparse_categorical_accuracy: 0.9918\n",
            "Epoch 11/15\n",
            "100/100 [==============================] - 2s 21ms/step - loss: 0.0246 - accuracy: 0.9922 - sparse_categorical_accuracy: 0.9922\n",
            "Epoch 12/15\n",
            "100/100 [==============================] - 2s 21ms/step - loss: 0.0253 - accuracy: 0.9923 - sparse_categorical_accuracy: 0.9923\n",
            "Epoch 13/15\n",
            "100/100 [==============================] - 2s 21ms/step - loss: 0.0211 - accuracy: 0.9933 - sparse_categorical_accuracy: 0.9933\n",
            "Epoch 14/15\n",
            "100/100 [==============================] - 2s 21ms/step - loss: 0.0195 - accuracy: 0.9939 - sparse_categorical_accuracy: 0.9939\n",
            "Epoch 15/15\n",
            "100/100 [==============================] - 3s 25ms/step - loss: 0.0176 - accuracy: 0.9943 - sparse_categorical_accuracy: 0.9943 - val_loss: 0.0312 - val_accuracy: 0.9924 - val_sparse_categorical_accuracy: 0.9924\n"
          ],
          "name": "stdout"
        }
      ]
    },
    {
      "cell_type": "markdown",
      "metadata": {
        "id": "kyufTI_fx8NR",
        "colab_type": "text"
      },
      "source": [
        "###Performance\n",
        "\n",
        "We achieve a very high validation accuracy (>99%) within approx 5 epochs. Since our validation happens only every 5 epochs, the training continues for 10 epochs so that we can see some evolvement of validation loss and accuracy below. "
      ]
    },
    {
      "cell_type": "code",
      "metadata": {
        "id": "hywTQ-oL9hH9",
        "colab_type": "code",
        "colab": {}
      },
      "source": [
        "def plot_training_history(history, title=None):\n",
        "    fig = plt.figure(figsize=(9,9))\n",
        "    plt.plot(history['accuracy'], label='acc')\n",
        "    plt.plot(history['loss'], label='loss')\n",
        "    plt.plot(history['val_accuracy'], label='val_acc')\n",
        "    plt.plot(history['val_loss'], label='val_loss')\n",
        "    plt.xlabel('Epoch')\n",
        "    plt.ylabel('Accuracy')\n",
        "    plt.legend(loc='best')\n",
        "    if title is not None:\n",
        "        plt.suptitle(title)"
      ],
      "execution_count": 0,
      "outputs": []
    },
    {
      "cell_type": "code",
      "metadata": {
        "id": "_T9pqhiPEcQF",
        "colab_type": "code",
        "outputId": "2d8f7f38-726d-4a1a-da98-c9bb03bcc0ef",
        "colab": {
          "base_uri": "https://localhost:8080/",
          "height": 555
        }
      },
      "source": [
        "# Align metrics for validation frequency, since training was done five times\n",
        "# more often than validation.\n",
        "for metric in [\"loss\", \"accuracy\", \"sparse_categorical_accuracy\"]:\n",
        "    metric_series = history.history[metric]\n",
        "    history.history[metric] = [metric_series[i] for i in range(0, len(metric_series), validation_frequency)]\n",
        "\n",
        "plot_training_history(history.history)"
      ],
      "execution_count": 9,
      "outputs": [
        {
          "output_type": "display_data",
          "data": {
            "image/png": "[encoded data removed]",
            "text/plain": [
              "<Figure size 648x648 with 1 Axes>"
            ]
          },
          "metadata": {
            "tags": []
          }
        }
      ]
    }
  ]
}