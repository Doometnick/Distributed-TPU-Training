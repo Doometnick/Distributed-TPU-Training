{
  "nbformat": 4,
  "nbformat_minor": 0,
  "metadata": {
    "colab": {
      "name": "Distributed_TPU_Training.ipynb",
      "provenance": [],
      "collapsed_sections": [],
      "toc_visible": true,
      "include_colab_link": true
    },
    "kernelspec": {
      "name": "python3",
      "display_name": "Python 3"
    },
    "accelerator": "TPU"
  },
  "cells": [
    {
      "cell_type": "markdown",
      "metadata": {
        "id": "view-in-github",
        "colab_type": "text"
      },
      "source": [
        "<a href=\"https://colab.research.google.com/github/Doometnick/Distributed-TPU-Training/blob/master/Distributed_TPU_Training.ipynb\" target=\"_parent\"><img src=\"https://colab.research.google.com/assets/colab-badge.svg\" alt=\"Open In Colab\"/></a>"
      ]
    },
    {
      "cell_type": "markdown",
      "metadata": {
        "id": "HDjk5P3ZuF9Y",
        "colab_type": "text"
      },
      "source": [
        "#Ready for some speed?\n",
        "\n",
        "Google Colab offers options to use GPUs and TPUs as hardware accelerators. While this can already significantly increase the training speed, distributing trainig over a pool of these accelerators, we can increase the speed even further.\n",
        "\n",
        "\n",
        "\n",
        "--> To enable TPUs, go to **'Runtime' > 'Change runtime type'** on the top left, and enable **TPU** as hardware accelerator."
      ]
    },
    {
      "cell_type": "code",
      "metadata": {
        "id": "GrQ_PfmfwfQE",
        "colab_type": "code",
        "colab": {}
      },
      "source": [
        "import tensorflow as tf\n",
        "import numpy as np\n",
        "import functools\n",
        "import os\n",
        "import matplotlib.pyplot as plt"
      ],
      "execution_count": 0,
      "outputs": []
    },
    {
      "cell_type": "markdown",
      "metadata": {
        "id": "HKK2P_qQw6bM",
        "colab_type": "text"
      },
      "source": [
        "###Data\n",
        "We will use the mnist data set to demonstrate distributed training."
      ]
    },
    {
      "cell_type": "code",
      "metadata": {
        "id": "iE8tFWXvxA2b",
        "colab_type": "code",
        "colab": {
          "base_uri": "https://localhost:8080/",
          "height": 35
        },
        "outputId": "5168bb3e-f6d7-4ebf-da5c-8a422353a2a5"
      },
      "source": [
        "(x_train, y_train), (x_test, y_test) = tf.keras.datasets.mnist.load_data()\n",
        "\n",
        "# Scale to [0,1]\n",
        "x_train = x_train / 255.0\n",
        "x_test = x_test / 255.0\n",
        "\n",
        "# Add dimension so we have a shape of (28, 28, 1) for every picture.\n",
        "x_train = np.expand_dims(x_train, -1)\n",
        "x_test = np.expand_dims(x_test, -1)\n",
        "\n",
        "print(f\"x_train shape: {x_train.shape}\")\n",
        "\n",
        "# Convert to float32 is necessary for the model.fit() below.\n",
        "x_train = x_train.astype(np.float32)\n",
        "y_train = y_train.astype(np.float32)\n",
        "x_test = x_test.astype(np.float32)\n",
        "y_test = y_test.astype(np.float32)"
      ],
      "execution_count": 2,
      "outputs": [
        {
          "output_type": "stream",
          "text": [
            "x_train shape: (60000, 28, 28, 1)\n"
          ],
          "name": "stdout"
        }
      ]
    },
    {
      "cell_type": "markdown",
      "metadata": {
        "id": "M3nROx-bxdiw",
        "colab_type": "text"
      },
      "source": [
        "### Model"
      ]
    },
    {
      "cell_type": "code",
      "metadata": {
        "id": "bVzkWj8HxeiK",
        "colab_type": "code",
        "colab": {}
      },
      "source": [
        "def build_model():\n",
        "\n",
        "    n_filters = 64\n",
        "    wdecay = 0.001\n",
        "\n",
        "    # We use functools to create partial functions so the \n",
        "    # model definition below becomes more readable.\n",
        "    Activation = functools.partial(tf.keras.layers.Activation, activation=\"relu\")\n",
        "    Conv2D = functools.partial(tf.keras.layers.Conv2D, \n",
        "                               activation=None, \n",
        "                               padding=\"same\", \n",
        "                               kernel_regularizer=tf.keras.regularizers.l2(wdecay))\n",
        "    MaxPool = functools.partial(tf.keras.layers.MaxPool2D, pool_size=(2,2))\n",
        "    Flatten = tf.keras.layers.Flatten\n",
        "    Dense = tf.keras.layers.Dense\n",
        "    BatchNormalization = tf.keras.layers.BatchNormalization\n",
        "    Dropout = tf.keras.layers.Dropout\n",
        "\n",
        "    model = tf.keras.Sequential([\n",
        "        \n",
        "        # Use three subsequent Conv2D layers without pooling in between\n",
        "        # to have a more discriminative decision function \n",
        "        # (https://arxiv.org/abs/1409.1556).\n",
        "        Conv2D(filters=n_filters*1, kernel_size=(3,3), strides=(1,1), input_shape=x_train.shape[1:]),\n",
        "        BatchNormalization(),\n",
        "        Activation(),\n",
        "        Conv2D(filters=n_filters*1, kernel_size=(3,3), strides=(1,1)),\n",
        "        BatchNormalization(),\n",
        "        Activation(),\n",
        "        Conv2D(filters=n_filters*1, kernel_size=(3,3), strides=(1,1)),\n",
        "        BatchNormalization(),\n",
        "        Activation(),\n",
        "        MaxPool(),\n",
        "        \n",
        "\n",
        "        Conv2D(filters=n_filters*2, kernel_size=(3,3), strides=(1,1)),\n",
        "        BatchNormalization(),\n",
        "        Activation(),\n",
        "        Conv2D(filters=n_filters*2, kernel_size=(3,3), strides=(1,1)),\n",
        "        BatchNormalization(),\n",
        "        Activation(),\n",
        "        Conv2D(filters=n_filters*2, kernel_size=(3,3), strides=(1,1)),\n",
        "        BatchNormalization(),\n",
        "        Activation(),\n",
        "        MaxPool(),\n",
        "\n",
        "        Flatten(),\n",
        "\n",
        "        Dense(64, activation=None, kernel_regularizer=tf.keras.regularizers.l2(wdecay)),\n",
        "        Dropout(0.5),\n",
        "        BatchNormalization(),\n",
        "        Activation(),\n",
        "\n",
        "        Dense(10, activation=\"softmax\")\n",
        "    ])\n",
        "\n",
        "    return model"
      ],
      "execution_count": 0,
      "outputs": []
    },
    {
      "cell_type": "code",
      "metadata": {
        "id": "wrYgKHBEBhFy",
        "colab_type": "code",
        "colab": {}
      },
      "source": [
        "def create_model():\n",
        "    model = tf.keras.models.Sequential()\n",
        "    model.add(tf.keras.layers.BatchNormalization(input_shape=x_train.shape[1:]))\n",
        "    model.add(tf.keras.layers.Conv2D(64, (5, 5), padding='same', activation='elu'))\n",
        "    model.add(tf.keras.layers.MaxPooling2D(pool_size=(2, 2), strides=(2,2)))\n",
        "    model.add(tf.keras.layers.Dropout(0.25))\n",
        "\n",
        "    model.add(tf.keras.layers.BatchNormalization(input_shape=x_train.shape[1:]))\n",
        "    model.add(tf.keras.layers.Conv2D(128, (5, 5), padding='same', activation='elu'))\n",
        "    model.add(tf.keras.layers.MaxPooling2D(pool_size=(2, 2)))\n",
        "    model.add(tf.keras.layers.Dropout(0.25))\n",
        "\n",
        "    model.add(tf.keras.layers.BatchNormalization(input_shape=x_train.shape[1:]))\n",
        "    model.add(tf.keras.layers.Conv2D(256, (5, 5), padding='same', activation='elu'))\n",
        "    model.add(tf.keras.layers.MaxPooling2D(pool_size=(2, 2), strides=(2,2)))\n",
        "    model.add(tf.keras.layers.Dropout(0.25))\n",
        "\n",
        "    model.add(tf.keras.layers.Flatten())\n",
        "    model.add(tf.keras.layers.Dense(256))\n",
        "    model.add(tf.keras.layers.Activation('elu'))\n",
        "    model.add(tf.keras.layers.Dropout(0.5))\n",
        "    model.add(tf.keras.layers.Dense(10))\n",
        "    model.add(tf.keras.layers.Activation('softmax'))\n",
        "    return model"
      ],
      "execution_count": 0,
      "outputs": []
    },
    {
      "cell_type": "markdown",
      "metadata": {
        "id": "l0mRsR37LKyb",
        "colab_type": "text"
      },
      "source": [
        "Here we define the distribution strategy."
      ]
    },
    {
      "cell_type": "code",
      "metadata": {
        "id": "DG_Wo3YlyGtw",
        "colab_type": "code",
        "colab": {
          "base_uri": "https://localhost:8080/",
          "height": 419
        },
        "outputId": "5899853a-1fa8-4fca-c49f-86dda0f6fa2e"
      },
      "source": [
        "# Cluster resolver for tf 2.0, see\n",
        "# https://www.tensorflow.org/guide/distributed_training#tpustrategy\n",
        "cluster_resolver = tf.distribute.cluster_resolver.TPUClusterResolver()\n",
        "tf.config.experimental_connect_to_cluster(cluster_resolver)\n",
        "tf.tpu.experimental.initialize_tpu_system(cluster_resolver)\n",
        "tpu_strategy = tf.distribute.experimental.TPUStrategy(cluster_resolver)\n",
        "\n",
        "with tpu_strategy.scope():\n",
        "  model = create_model()\n",
        "  model.compile(\n",
        "      optimizer=tf.keras.optimizers.Adam(learning_rate=1e-3),\n",
        "      loss='sparse_categorical_crossentropy',\n",
        "      metrics=['accuracy', 'sparse_categorical_accuracy'])"
      ],
      "execution_count": 5,
      "outputs": [
        {
          "output_type": "stream",
          "text": [
            "INFO:tensorflow:Initializing the TPU system: 10.111.62.194:8470\n",
            "INFO:tensorflow:Finished initializing TPU system.\n",
            "INFO:tensorflow:Querying Tensorflow master (grpc://10.111.62.194:8470) for TPU system metadata.\n",
            "INFO:tensorflow:Found TPU system:\n",
            "INFO:tensorflow:*** Num TPU Cores: 8\n",
            "INFO:tensorflow:*** Num TPU Workers: 1\n",
            "INFO:tensorflow:*** Num TPU Cores Per Worker: 8\n",
            "INFO:tensorflow:*** Available Device: _DeviceAttributes(/job:worker/replica:0/task:0/device:CPU:0, CPU, -1, 13425998941314748898)\n",
            "INFO:tensorflow:*** Available Device: _DeviceAttributes(/job:worker/replica:0/task:0/device:TPU:0, TPU, 17179869184, 17717482480719528325)\n",
            "INFO:tensorflow:*** Available Device: _DeviceAttributes(/job:worker/replica:0/task:0/device:TPU:1, TPU, 17179869184, 6470729573011354414)\n",
            "INFO:tensorflow:*** Available Device: _DeviceAttributes(/job:worker/replica:0/task:0/device:TPU:2, TPU, 17179869184, 10442665980172472999)\n",
            "INFO:tensorflow:*** Available Device: _DeviceAttributes(/job:worker/replica:0/task:0/device:TPU:3, TPU, 17179869184, 16941041755856733499)\n",
            "INFO:tensorflow:*** Available Device: _DeviceAttributes(/job:worker/replica:0/task:0/device:TPU:4, TPU, 17179869184, 16582299292317826488)\n",
            "INFO:tensorflow:*** Available Device: _DeviceAttributes(/job:worker/replica:0/task:0/device:TPU:5, TPU, 17179869184, 13362048090560105049)\n",
            "INFO:tensorflow:*** Available Device: _DeviceAttributes(/job:worker/replica:0/task:0/device:TPU:6, TPU, 17179869184, 13956004676536108593)\n",
            "INFO:tensorflow:*** Available Device: _DeviceAttributes(/job:worker/replica:0/task:0/device:TPU:7, TPU, 17179869184, 16560307414956489241)\n",
            "INFO:tensorflow:*** Available Device: _DeviceAttributes(/job:worker/replica:0/task:0/device:TPU_SYSTEM:0, TPU_SYSTEM, 8589934592, 5634150122143531064)\n",
            "INFO:tensorflow:*** Available Device: _DeviceAttributes(/job:worker/replica:0/task:0/device:XLA_CPU:0, XLA_CPU, 17179869184, 15350237560377158700)\n",
            "WARNING:tensorflow:From /usr/local/lib/python3.6/dist-packages/tensorflow_core/python/ops/resource_variable_ops.py:1630: calling BaseResourceVariable.__init__ (from tensorflow.python.ops.resource_variable_ops) with constraint is deprecated and will be removed in a future version.\n",
            "Instructions for updating:\n",
            "If using Keras pass *_constraint arguments to layers.\n"
          ],
          "name": "stdout"
        }
      ]
    },
    {
      "cell_type": "markdown",
      "metadata": {
        "id": "Z1SVyuO7LSdV",
        "colab_type": "text"
      },
      "source": [
        "And then we train the model for 15 episodes. Note that the training speed per episode is very high."
      ]
    },
    {
      "cell_type": "code",
      "metadata": {
        "id": "ZGtTgO4_LFV4",
        "colab_type": "code",
        "colab": {
          "base_uri": "https://localhost:8080/",
          "height": 781
        },
        "outputId": "7a74b028-294e-44d0-93d5-ebde120ecd0c"
      },
      "source": [
        "# How often do we validate, as this decreases the training speed on distributed TPUs.\n",
        "validation_frequency = 5\n",
        "\n",
        "history = model.fit(x_train, \n",
        "                    y_train,\n",
        "                    epochs=15,\n",
        "                    steps_per_epoch=100,\n",
        "                    validation_data=(x_test, y_test),\n",
        "                    validation_freq=validation_frequency)"
      ],
      "execution_count": 6,
      "outputs": [
        {
          "output_type": "stream",
          "text": [
            "WARNING:tensorflow:From /usr/local/lib/python3.6/dist-packages/tensorflow_core/python/keras/layers/normalization.py:477: where (from tensorflow.python.ops.array_ops) is deprecated and will be removed in a future version.\n",
            "Instructions for updating:\n",
            "Use tf.where in 2.0, which has the same broadcast rule as np.where\n",
            "Epoch 1/15\n",
            "100/100 [==============================] - 2s 23ms/step - loss: 0.6684 - acc: 0.8473 - sparse_categorical_accuracy: 0.8473\n",
            "Epoch 2/15\n",
            "100/100 [==============================] - 2s 18ms/step - loss: 0.1207 - acc: 0.9648 - sparse_categorical_accuracy: 0.9648\n",
            "Epoch 3/15\n",
            "100/100 [==============================] - 2s 18ms/step - loss: 0.0857 - acc: 0.9747 - sparse_categorical_accuracy: 0.9747\n",
            "Epoch 4/15\n",
            "100/100 [==============================] - 2s 19ms/step - loss: 0.0689 - acc: 0.9807 - sparse_categorical_accuracy: 0.9807\n",
            "Epoch 5/15\n",
            " 98/100 [============================>.] - ETA: 0s - loss: 0.0520 - acc: 0.9842 - sparse_categorical_accuracy: 0.9842INFO:tensorflow:Running validation at fit epoch: 4\n",
            "17/17 [==============================] - 4s 212ms/step\n",
            "17/17 [==============================] - 4s 212ms/step\n",
            "100/100 [==============================] - 7s 74ms/step - loss: 0.0520 - acc: 0.9843 - sparse_categorical_accuracy: 0.9843 - val_loss: 0.0413 - val_acc: 0.9877 - val_sparse_categorical_accuracy: 0.9877\n",
            "Epoch 6/15\n",
            "100/100 [==============================] - 2s 20ms/step - loss: 0.0485 - acc: 0.9860 - sparse_categorical_accuracy: 0.9860\n",
            "Epoch 7/15\n",
            "100/100 [==============================] - 2s 20ms/step - loss: 0.0404 - acc: 0.9880 - sparse_categorical_accuracy: 0.9880\n",
            "Epoch 8/15\n",
            "100/100 [==============================] - 2s 20ms/step - loss: 0.0359 - acc: 0.9890 - sparse_categorical_accuracy: 0.9890\n",
            "Epoch 9/15\n",
            "100/100 [==============================] - 2s 20ms/step - loss: 0.0314 - acc: 0.9902 - sparse_categorical_accuracy: 0.9902\n",
            "Epoch 10/15\n",
            " 97/100 [============================>.] - ETA: 0s - loss: 0.0267 - acc: 0.9917 - sparse_categorical_accuracy: 0.9917INFO:tensorflow:Running validation at fit epoch: 9\n",
            "17/17 [==============================] - 4s 249ms/step\n",
            "17/17 [==============================] - 4s 250ms/step\n",
            "100/100 [==============================] - 8s 83ms/step - loss: 0.0266 - acc: 0.9917 - sparse_categorical_accuracy: 0.9917 - val_loss: 0.0297 - val_acc: 0.9922 - val_sparse_categorical_accuracy: 0.9922\n",
            "Epoch 11/15\n",
            "100/100 [==============================] - 2s 22ms/step - loss: 0.0235 - acc: 0.9924 - sparse_categorical_accuracy: 0.9924\n",
            "Epoch 12/15\n",
            "100/100 [==============================] - 2s 22ms/step - loss: 0.0213 - acc: 0.9930 - sparse_categorical_accuracy: 0.9930\n",
            "Epoch 13/15\n",
            "100/100 [==============================] - 2s 23ms/step - loss: 0.0223 - acc: 0.9929 - sparse_categorical_accuracy: 0.9929\n",
            "Epoch 14/15\n",
            "100/100 [==============================] - 2s 22ms/step - loss: 0.0177 - acc: 0.9943 - sparse_categorical_accuracy: 0.9943\n",
            "Epoch 15/15\n",
            " 99/100 [============================>.] - ETA: 0s - loss: 0.0176 - acc: 0.9941 - sparse_categorical_accuracy: 0.9941INFO:tensorflow:Running validation at fit epoch: 14\n",
            "17/17 [==============================] - 5s 298ms/step\n",
            "17/17 [==============================] - 5s 298ms/step\n",
            "100/100 [==============================] - 9s 95ms/step - loss: 0.0176 - acc: 0.9941 - sparse_categorical_accuracy: 0.9941 - val_loss: 0.0268 - val_acc: 0.9923 - val_sparse_categorical_accuracy: 0.9923\n"
          ],
          "name": "stdout"
        }
      ]
    },
    {
      "cell_type": "markdown",
      "metadata": {
        "id": "kyufTI_fx8NR",
        "colab_type": "text"
      },
      "source": [
        "###Performance\n",
        "\n",
        "We achieve a very high validation accuracy (>99%) within approx 5 epochs. Since our validation happens only every 5 epochs, the training continues for 10 epochs so that we can see some evolvement of validation loss and accuracy below. "
      ]
    },
    {
      "cell_type": "code",
      "metadata": {
        "id": "hywTQ-oL9hH9",
        "colab_type": "code",
        "colab": {}
      },
      "source": [
        "def plot_training_history(history, title=None):\n",
        "    fig = plt.figure(figsize=(9,9))\n",
        "    plt.plot(history['acc'], label='acc')\n",
        "    plt.plot(history['loss'], label='loss')\n",
        "    plt.plot(history['val_acc'], label='val_acc')\n",
        "    plt.plot(history['val_loss'], label='val_loss')\n",
        "    plt.xlabel('Epoch')\n",
        "    plt.ylabel('Accuracy')\n",
        "    plt.legend(loc='best')\n",
        "    if title is not None:\n",
        "        plt.suptitle(title)"
      ],
      "execution_count": 0,
      "outputs": []
    },
    {
      "cell_type": "code",
      "metadata": {
        "id": "_T9pqhiPEcQF",
        "colab_type": "code",
        "colab": {
          "base_uri": "https://localhost:8080/",
          "height": 555
        },
        "outputId": "09474482-069b-4251-87fc-13aaa7ea2879"
      },
      "source": [
        "# Align metrics for validation frequency, since training was done five times\n",
        "# more often than validation.\n",
        "for metric in [\"loss\", \"acc\", \"sparse_categorical_accuracy\"]:\n",
        "    metric_series = history.history[metric]\n",
        "    history.history[metric] = [metric_series[i] for i in range(0, len(metric_series), validation_frequency)]\n",
        "\n",
        "plot_training_history(history.history)"
      ],
      "execution_count": 8,
      "outputs": [
        {
          "output_type": "display_data",
          "data": {
            "image/png": "[encoded data removed]",
            "text/plain": [
              "<Figure size 648x648 with 1 Axes>"
            ]
          },
          "metadata": {
            "tags": []
          }
        }
      ]
    }
  ]
}